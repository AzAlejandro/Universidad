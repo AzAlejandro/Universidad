{
 "cells": [
  {
   "attachments": {
    "image.png": {
     "image/png": "[encoded data removed]"
    }
   },
   "cell_type": "markdown",
   "id": "7f59ec7d",
   "metadata": {},
   "source": [
    "![image.png](attachment:image.png)"
   ]
  },
  {
   "cell_type": "markdown",
   "id": "5d762bdd",
   "metadata": {},
   "source": [
    "# Tarea n°2: Deep Learning\n",
    "\n",
    "Profesor: Takeshi Eduardo Asahi Kodama\n",
    "\n",
    "Alumno: Alejandro Andrés Méndez Miranda\n",
    "\n",
    "\n",
    "\n",
    "El dataset seleccionado es 60k stack overflow questions with quality rate. Es un problema de clasificación de calidad del posteo en la página de StackOverflow. Para esta tarea se entrega tanto el título, el cuerpo y los tags del post, además de la fecha, ID y las 3 categorías a predecir:\n",
    "\n",
    "* LQ_CLOSE: Baja calidad cerrado\n",
    "* LQ_EDIT: Baja calidad editado\n",
    "* HQ: Alta calidad\n",
    "\n",
    "\n",
    "El enlace de kaggle al dataset es el siguiente:[link al dataset](https://www.kaggle.com/imoore/60k-stack-overflow-questions-with-quality-rate)\n",
    "\n",
    "A continuación realizaremos la lectura y descripción del dataset."
   ]
  },
  {
   "cell_type": "code",
   "execution_count": 1,
   "id": "80722a5a",
   "metadata": {},
   "outputs": [],
   "source": [
    "import pandas as pd\n",
    "import numpy as np\n",
    "import matplotlib.pyplot as plt\n",
    "import seaborn as sns"
   ]
  },
  {
   "cell_type": "markdown",
   "id": "4999f12a",
   "metadata": {},
   "source": [
    "# 1) Cargar los datos del set (conjunto) seleccionado. "
   ]
  },
  {
   "cell_type": "code",
   "execution_count": 2,
   "id": "9e252a7d",
   "metadata": {},
   "outputs": [],
   "source": [
    "train = pd.read_csv('train.csv')\n",
    "valid = pd.read_csv('valid.csv')"
   ]
  },
  {
   "cell_type": "code",
   "execution_count": 3,
   "id": "594a576a",
   "metadata": {},
   "outputs": [
    {
     "data": {
      "text/html": [
       "<div>\n",
       "<style scoped>\n",
       "    .dataframe tbody tr th:only-of-type {\n",
       "        vertical-align: middle;\n",
       "    }\n",
       "\n",
       "    .dataframe tbody tr th {\n",
       "        vertical-align: top;\n",
       "    }\n",
       "\n",
       "    .dataframe thead th {\n",
       "        text-align: right;\n",
       "    }\n",
       "</style>\n",
       "<table border=\"1\" class=\"dataframe\">\n",
       "  <thead>\n",
       "    <tr style=\"text-align: right;\">\n",
       "      <th></th>\n",
       "      <th>Id</th>\n",
       "      <th>Title</th>\n",
       "      <th>Body</th>\n",
       "      <th>Tags</th>\n",
       "      <th>CreationDate</th>\n",
       "      <th>Y</th>\n",
       "    </tr>\n",
       "  </thead>\n",
       "  <tbody>\n",
       "    <tr>\n",
       "      <th>0</th>\n",
       "      <td>34552656</td>\n",
       "      <td>Java: Repeat Task Every Random Seconds</td>\n",
       "      <td>&lt;p&gt;I'm already familiar with repeating tasks e...</td>\n",
       "      <td>&lt;java&gt;&lt;repeat&gt;</td>\n",
       "      <td>2016-01-01 00:21:59</td>\n",
       "      <td>LQ_CLOSE</td>\n",
       "    </tr>\n",
       "    <tr>\n",
       "      <th>1</th>\n",
       "      <td>34553034</td>\n",
       "      <td>Why are Java Optionals immutable?</td>\n",
       "      <td>&lt;p&gt;I'd like to understand why Java 8 Optionals...</td>\n",
       "      <td>&lt;java&gt;&lt;optional&gt;</td>\n",
       "      <td>2016-01-01 02:03:20</td>\n",
       "      <td>HQ</td>\n",
       "    </tr>\n",
       "    <tr>\n",
       "      <th>2</th>\n",
       "      <td>34553174</td>\n",
       "      <td>Text Overlay Image with Darkened Opacity React...</td>\n",
       "      <td>&lt;p&gt;I am attempting to overlay a title over an ...</td>\n",
       "      <td>&lt;javascript&gt;&lt;image&gt;&lt;overlay&gt;&lt;react-native&gt;&lt;opa...</td>\n",
       "      <td>2016-01-01 02:48:24</td>\n",
       "      <td>HQ</td>\n",
       "    </tr>\n",
       "    <tr>\n",
       "      <th>3</th>\n",
       "      <td>34553318</td>\n",
       "      <td>Why ternary operator in swift is so picky?</td>\n",
       "      <td>&lt;p&gt;The question is very simple, but I just cou...</td>\n",
       "      <td>&lt;swift&gt;&lt;operators&gt;&lt;whitespace&gt;&lt;ternary-operato...</td>\n",
       "      <td>2016-01-01 03:30:17</td>\n",
       "      <td>HQ</td>\n",
       "    </tr>\n",
       "    <tr>\n",
       "      <th>4</th>\n",
       "      <td>34553755</td>\n",
       "      <td>hide/show fab with scale animation</td>\n",
       "      <td>&lt;p&gt;I'm using custom floatingactionmenu. I need...</td>\n",
       "      <td>&lt;android&gt;&lt;material-design&gt;&lt;floating-action-but...</td>\n",
       "      <td>2016-01-01 05:21:48</td>\n",
       "      <td>HQ</td>\n",
       "    </tr>\n",
       "    <tr>\n",
       "      <th>...</th>\n",
       "      <td>...</td>\n",
       "      <td>...</td>\n",
       "      <td>...</td>\n",
       "      <td>...</td>\n",
       "      <td>...</td>\n",
       "      <td>...</td>\n",
       "    </tr>\n",
       "    <tr>\n",
       "      <th>44995</th>\n",
       "      <td>60461435</td>\n",
       "      <td>Convert List&lt;String&gt; to string C# - asp.net - ...</td>\n",
       "      <td>&lt;p&gt;I am new to this and I am asking for help t...</td>\n",
       "      <td>&lt;c#&gt;&lt;asp.net&gt;&lt;sql-server&gt;</td>\n",
       "      <td>2020-02-29 02:22:18</td>\n",
       "      <td>LQ_CLOSE</td>\n",
       "    </tr>\n",
       "    <tr>\n",
       "      <th>44996</th>\n",
       "      <td>60461754</td>\n",
       "      <td>Does Python execute code from the top or botto...</td>\n",
       "      <td>&lt;p&gt;I am working on learning Python and was won...</td>\n",
       "      <td>&lt;python&gt;</td>\n",
       "      <td>2020-02-29 03:33:59</td>\n",
       "      <td>LQ_CLOSE</td>\n",
       "    </tr>\n",
       "    <tr>\n",
       "      <th>44997</th>\n",
       "      <td>60462001</td>\n",
       "      <td>how to change payment date in Azure?</td>\n",
       "      <td>&lt;p&gt;It looks like it costs 8 days per month in ...</td>\n",
       "      <td>&lt;azure&gt;&lt;billing&gt;</td>\n",
       "      <td>2020-02-29 04:34:16</td>\n",
       "      <td>LQ_CLOSE</td>\n",
       "    </tr>\n",
       "    <tr>\n",
       "      <th>44998</th>\n",
       "      <td>60465318</td>\n",
       "      <td>how to implement fill in the blank in Swift</td>\n",
       "      <td>&lt;p&gt;\"I _____ any questions.\"&lt;/p&gt;\\n\\n&lt;p&gt;I want t...</td>\n",
       "      <td>&lt;ios&gt;&lt;swift&gt;</td>\n",
       "      <td>2020-02-29 12:50:43</td>\n",
       "      <td>LQ_CLOSE</td>\n",
       "    </tr>\n",
       "    <tr>\n",
       "      <th>44999</th>\n",
       "      <td>60468018</td>\n",
       "      <td>How can I make a c# application outside of vis...</td>\n",
       "      <td>&lt;p&gt;I'm very new to programming and I'm teachin...</td>\n",
       "      <td>&lt;c#&gt;&lt;visual-studio&gt;</td>\n",
       "      <td>2020-02-29 17:55:56</td>\n",
       "      <td>LQ_CLOSE</td>\n",
       "    </tr>\n",
       "  </tbody>\n",
       "</table>\n",
       "<p>45000 rows × 6 columns</p>\n",
       "</div>"
      ],
      "text/plain": [
       "             Id                                              Title  \\\n",
       "0      34552656             Java: Repeat Task Every Random Seconds   \n",
       "1      34553034                  Why are Java Optionals immutable?   \n",
       "2      34553174  Text Overlay Image with Darkened Opacity React...   \n",
       "3      34553318         Why ternary operator in swift is so picky?   \n",
       "4      34553755                 hide/show fab with scale animation   \n",
       "...         ...                                                ...   \n",
       "44995  60461435  Convert List<String> to string C# - asp.net - ...   \n",
       "44996  60461754  Does Python execute code from the top or botto...   \n",
       "44997  60462001               how to change payment date in Azure?   \n",
       "44998  60465318        how to implement fill in the blank in Swift   \n",
       "44999  60468018  How can I make a c# application outside of vis...   \n",
       "\n",
       "                                                    Body  \\\n",
       "0      <p>I'm already familiar with repeating tasks e...   \n",
       "1      <p>I'd like to understand why Java 8 Optionals...   \n",
       "2      <p>I am attempting to overlay a title over an ...   \n",
       "3      <p>The question is very simple, but I just cou...   \n",
       "4      <p>I'm using custom floatingactionmenu. I need...   \n",
       "...                                                  ...   \n",
       "44995  <p>I am new to this and I am asking for help t...   \n",
       "44996  <p>I am working on learning Python and was won...   \n",
       "44997  <p>It looks like it costs 8 days per month in ...   \n",
       "44998  <p>\"I _____ any questions.\"</p>\\n\\n<p>I want t...   \n",
       "44999  <p>I'm very new to programming and I'm teachin...   \n",
       "\n",
       "                                                    Tags         CreationDate  \\\n",
       "0                                         <java><repeat>  2016-01-01 00:21:59   \n",
       "1                                       <java><optional>  2016-01-01 02:03:20   \n",
       "2      <javascript><image><overlay><react-native><opa...  2016-01-01 02:48:24   \n",
       "3      <swift><operators><whitespace><ternary-operato...  2016-01-01 03:30:17   \n",
       "4      <android><material-design><floating-action-but...  2016-01-01 05:21:48   \n",
       "...                                                  ...                  ...   \n",
       "44995                          <c#><asp.net><sql-server>  2020-02-29 02:22:18   \n",
       "44996                                           <python>  2020-02-29 03:33:59   \n",
       "44997                                   <azure><billing>  2020-02-29 04:34:16   \n",
       "44998                                       <ios><swift>  2020-02-29 12:50:43   \n",
       "44999                                <c#><visual-studio>  2020-02-29 17:55:56   \n",
       "\n",
       "              Y  \n",
       "0      LQ_CLOSE  \n",
       "1            HQ  \n",
       "2            HQ  \n",
       "3            HQ  \n",
       "4            HQ  \n",
       "...         ...  \n",
       "44995  LQ_CLOSE  \n",
       "44996  LQ_CLOSE  \n",
       "44997  LQ_CLOSE  \n",
       "44998  LQ_CLOSE  \n",
       "44999  LQ_CLOSE  \n",
       "\n",
       "[45000 rows x 6 columns]"
      ]
     },
     "execution_count": 3,
     "metadata": {},
     "output_type": "execute_result"
    }
   ],
   "source": [
    "train"
   ]
  },
  {
   "cell_type": "code",
   "execution_count": 4,
   "id": "15718524",
   "metadata": {},
   "outputs": [
    {
     "data": {
      "text/html": [
       "<div>\n",
       "<style scoped>\n",
       "    .dataframe tbody tr th:only-of-type {\n",
       "        vertical-align: middle;\n",
       "    }\n",
       "\n",
       "    .dataframe tbody tr th {\n",
       "        vertical-align: top;\n",
       "    }\n",
       "\n",
       "    .dataframe thead th {\n",
       "        text-align: right;\n",
       "    }\n",
       "</style>\n",
       "<table border=\"1\" class=\"dataframe\">\n",
       "  <thead>\n",
       "    <tr style=\"text-align: right;\">\n",
       "      <th></th>\n",
       "      <th>Id</th>\n",
       "      <th>Title</th>\n",
       "      <th>Body</th>\n",
       "      <th>Tags</th>\n",
       "      <th>CreationDate</th>\n",
       "      <th>Y</th>\n",
       "    </tr>\n",
       "  </thead>\n",
       "  <tbody>\n",
       "    <tr>\n",
       "      <th>0</th>\n",
       "      <td>34552974</td>\n",
       "      <td>How to get all the child records from differen...</td>\n",
       "      <td>I am having 4 different tables like \\r\\nselect...</td>\n",
       "      <td>&lt;sql&gt;&lt;sql-server&gt;</td>\n",
       "      <td>2016-01-01 01:44:52</td>\n",
       "      <td>LQ_EDIT</td>\n",
       "    </tr>\n",
       "    <tr>\n",
       "      <th>1</th>\n",
       "      <td>34554721</td>\n",
       "      <td>Retrieve all except some data of the another t...</td>\n",
       "      <td>I have two table m_master and tbl_appointment\\...</td>\n",
       "      <td>&lt;php&gt;&lt;mysql&gt;&lt;sql&gt;&lt;codeigniter&gt;&lt;mysqli&gt;</td>\n",
       "      <td>2016-01-01 08:43:50</td>\n",
       "      <td>LQ_EDIT</td>\n",
       "    </tr>\n",
       "    <tr>\n",
       "      <th>2</th>\n",
       "      <td>34555135</td>\n",
       "      <td>Pandas: read_html</td>\n",
       "      <td>&lt;p&gt;I'm trying to extract US states from wiki U...</td>\n",
       "      <td>&lt;python&gt;&lt;pandas&gt;</td>\n",
       "      <td>2016-01-01 09:55:22</td>\n",
       "      <td>HQ</td>\n",
       "    </tr>\n",
       "    <tr>\n",
       "      <th>3</th>\n",
       "      <td>34555448</td>\n",
       "      <td>Reader Always gimme NULL</td>\n",
       "      <td>I'm so new to C#, I wanna make an application ...</td>\n",
       "      <td>&lt;sql-server&gt;&lt;c#-4.0&gt;</td>\n",
       "      <td>2016-01-01 10:43:45</td>\n",
       "      <td>LQ_EDIT</td>\n",
       "    </tr>\n",
       "    <tr>\n",
       "      <th>4</th>\n",
       "      <td>34555752</td>\n",
       "      <td>php rearrange array elements based on condition</td>\n",
       "      <td>basically i have this array:\\r\\n\\r\\n    array(...</td>\n",
       "      <td>&lt;php&gt;</td>\n",
       "      <td>2016-01-01 11:34:09</td>\n",
       "      <td>LQ_EDIT</td>\n",
       "    </tr>\n",
       "    <tr>\n",
       "      <th>...</th>\n",
       "      <td>...</td>\n",
       "      <td>...</td>\n",
       "      <td>...</td>\n",
       "      <td>...</td>\n",
       "      <td>...</td>\n",
       "      <td>...</td>\n",
       "    </tr>\n",
       "    <tr>\n",
       "      <th>14995</th>\n",
       "      <td>60465681</td>\n",
       "      <td>How can I align two flex boxes to follow each ...</td>\n",
       "      <td>&lt;p&gt;I have a menu, and I'd like the div.right-c...</td>\n",
       "      <td>&lt;html&gt;&lt;css&gt;&lt;flexbox&gt;</td>\n",
       "      <td>2020-02-29 13:32:56</td>\n",
       "      <td>LQ_CLOSE</td>\n",
       "    </tr>\n",
       "    <tr>\n",
       "      <th>14996</th>\n",
       "      <td>60467932</td>\n",
       "      <td>C++ The correct way to multiply an integer and...</td>\n",
       "      <td>&lt;p&gt;I try to multiply an integer by a double bu...</td>\n",
       "      <td>&lt;c++&gt;</td>\n",
       "      <td>2020-02-29 17:46:41</td>\n",
       "      <td>LQ_CLOSE</td>\n",
       "    </tr>\n",
       "    <tr>\n",
       "      <th>14997</th>\n",
       "      <td>60468378</td>\n",
       "      <td>WHY DJANGO IS SHOWING ME THIS ERROR WHEN I TRY...</td>\n",
       "      <td>*URLS.PY*\\r\\n    //URLS.PY FILE\\r\\n    fro...</td>\n",
       "      <td>&lt;django&gt;&lt;django-views&gt;&lt;django-templates&gt;</td>\n",
       "      <td>2020-02-29 18:35:39</td>\n",
       "      <td>LQ_EDIT</td>\n",
       "    </tr>\n",
       "    <tr>\n",
       "      <th>14998</th>\n",
       "      <td>60469392</td>\n",
       "      <td>PHP - getting the content of php page</td>\n",
       "      <td>&lt;p&gt;I have a controller inside which a server i...</td>\n",
       "      <td>&lt;javascript&gt;&lt;php&gt;&lt;html&gt;</td>\n",
       "      <td>2020-02-29 20:32:14</td>\n",
       "      <td>LQ_CLOSE</td>\n",
       "    </tr>\n",
       "    <tr>\n",
       "      <th>14999</th>\n",
       "      <td>60470323</td>\n",
       "      <td>Why can't overloaded functions vary only by re...</td>\n",
       "      <td>&lt;p&gt;So i was recently helping someone out with ...</td>\n",
       "      <td>&lt;c++&gt;&lt;overloading&gt;&lt;return-type&gt;</td>\n",
       "      <td>2020-02-29 22:45:56</td>\n",
       "      <td>LQ_CLOSE</td>\n",
       "    </tr>\n",
       "  </tbody>\n",
       "</table>\n",
       "<p>15000 rows × 6 columns</p>\n",
       "</div>"
      ],
      "text/plain": [
       "             Id                                              Title  \\\n",
       "0      34552974  How to get all the child records from differen...   \n",
       "1      34554721  Retrieve all except some data of the another t...   \n",
       "2      34555135                                  Pandas: read_html   \n",
       "3      34555448                           Reader Always gimme NULL   \n",
       "4      34555752    php rearrange array elements based on condition   \n",
       "...         ...                                                ...   \n",
       "14995  60465681  How can I align two flex boxes to follow each ...   \n",
       "14996  60467932  C++ The correct way to multiply an integer and...   \n",
       "14997  60468378  WHY DJANGO IS SHOWING ME THIS ERROR WHEN I TRY...   \n",
       "14998  60469392              PHP - getting the content of php page   \n",
       "14999  60470323  Why can't overloaded functions vary only by re...   \n",
       "\n",
       "                                                    Body  \\\n",
       "0      I am having 4 different tables like \\r\\nselect...   \n",
       "1      I have two table m_master and tbl_appointment\\...   \n",
       "2      <p>I'm trying to extract US states from wiki U...   \n",
       "3      I'm so new to C#, I wanna make an application ...   \n",
       "4      basically i have this array:\\r\\n\\r\\n    array(...   \n",
       "...                                                  ...   \n",
       "14995  <p>I have a menu, and I'd like the div.right-c...   \n",
       "14996  <p>I try to multiply an integer by a double bu...   \n",
       "14997      *URLS.PY*\\r\\n    //URLS.PY FILE\\r\\n    fro...   \n",
       "14998  <p>I have a controller inside which a server i...   \n",
       "14999  <p>So i was recently helping someone out with ...   \n",
       "\n",
       "                                           Tags         CreationDate         Y  \n",
       "0                             <sql><sql-server>  2016-01-01 01:44:52   LQ_EDIT  \n",
       "1        <php><mysql><sql><codeigniter><mysqli>  2016-01-01 08:43:50   LQ_EDIT  \n",
       "2                              <python><pandas>  2016-01-01 09:55:22        HQ  \n",
       "3                          <sql-server><c#-4.0>  2016-01-01 10:43:45   LQ_EDIT  \n",
       "4                                         <php>  2016-01-01 11:34:09   LQ_EDIT  \n",
       "...                                         ...                  ...       ...  \n",
       "14995                      <html><css><flexbox>  2020-02-29 13:32:56  LQ_CLOSE  \n",
       "14996                                     <c++>  2020-02-29 17:46:41  LQ_CLOSE  \n",
       "14997  <django><django-views><django-templates>  2020-02-29 18:35:39   LQ_EDIT  \n",
       "14998                   <javascript><php><html>  2020-02-29 20:32:14  LQ_CLOSE  \n",
       "14999           <c++><overloading><return-type>  2020-02-29 22:45:56  LQ_CLOSE  \n",
       "\n",
       "[15000 rows x 6 columns]"
      ]
     },
     "execution_count": 4,
     "metadata": {},
     "output_type": "execute_result"
    }
   ],
   "source": [
    "valid"
   ]
  },
  {
   "cell_type": "markdown",
   "id": "26c9f67c",
   "metadata": {},
   "source": [
    "# 2) Hacer una breve descripción de estos datos (estadísticas, histogramas, etc.).\n",
    "# 3) Hacer curación de datos (eliminación de comas y otros caracteres especiales en el caso de texto, recorte "
   ]
  },
  {
   "cell_type": "markdown",
   "id": "5cc78ed9",
   "metadata": {},
   "source": [
    "El dataset  consta de 45000 filas para el set de entrenamiento y 15000 de validación. Tienen 6 columnas comunes:\n",
    "\n",
    "* Id: Contiene el id del post\n",
    "* Title: El título con el que se creó el post\n",
    "* Body: Incluye el texto dentro del cuerpo del post\n",
    "* Tags: Etiquetas dado al post\n",
    "* CreationDate: Fecha de creación del post\n",
    "* Y: Clasificación del post, son 3 categorías: LQ_CLOSE, LQ_EDIT y HQ"
   ]
  },
  {
   "cell_type": "code",
   "execution_count": 5,
   "id": "32d4b5bc",
   "metadata": {},
   "outputs": [
    {
     "data": {
      "text/plain": [
       "{'HQ': 15000, 'LQ_CLOSE': 15000, 'LQ_EDIT': 15000}"
      ]
     },
     "execution_count": 5,
     "metadata": {},
     "output_type": "execute_result"
    }
   ],
   "source": [
    "a = train[\"Y\"]\n",
    "unique, counts = np.unique(a, return_counts=True)\n",
    "dict(zip(unique, counts))"
   ]
  },
  {
   "cell_type": "markdown",
   "id": "bb398177",
   "metadata": {},
   "source": [
    "Para cada categoría observamos 15000 datos, es un set balanceado. Otro análisis que se puede realizar es analizar la importancia de lenguajes o tarea según se indica en la columna tag, pero para ello se necesita un pequeño procesado."
   ]
  },
  {
   "cell_type": "code",
   "execution_count": 6,
   "id": "8020dfaa",
   "metadata": {},
   "outputs": [],
   "source": [
    "train[\"Tags\"] = train['Tags'].str.replace('<','')\n",
    "train[\"Tags\"] = train['Tags'].str.replace('>',' ')"
   ]
  },
  {
   "cell_type": "code",
   "execution_count": 7,
   "id": "c519df66",
   "metadata": {},
   "outputs": [
    {
     "data": {
      "text/html": [
       "<div>\n",
       "<style scoped>\n",
       "    .dataframe tbody tr th:only-of-type {\n",
       "        vertical-align: middle;\n",
       "    }\n",
       "\n",
       "    .dataframe tbody tr th {\n",
       "        vertical-align: top;\n",
       "    }\n",
       "\n",
       "    .dataframe thead th {\n",
       "        text-align: right;\n",
       "    }\n",
       "</style>\n",
       "<table border=\"1\" class=\"dataframe\">\n",
       "  <thead>\n",
       "    <tr style=\"text-align: right;\">\n",
       "      <th></th>\n",
       "      <th>Id</th>\n",
       "      <th>Title</th>\n",
       "      <th>Body</th>\n",
       "      <th>Tags</th>\n",
       "      <th>CreationDate</th>\n",
       "      <th>Y</th>\n",
       "    </tr>\n",
       "  </thead>\n",
       "  <tbody>\n",
       "    <tr>\n",
       "      <th>0</th>\n",
       "      <td>34552656</td>\n",
       "      <td>Java: Repeat Task Every Random Seconds</td>\n",
       "      <td>&lt;p&gt;I'm already familiar with repeating tasks e...</td>\n",
       "      <td>java repeat</td>\n",
       "      <td>2016-01-01 00:21:59</td>\n",
       "      <td>LQ_CLOSE</td>\n",
       "    </tr>\n",
       "    <tr>\n",
       "      <th>1</th>\n",
       "      <td>34553034</td>\n",
       "      <td>Why are Java Optionals immutable?</td>\n",
       "      <td>&lt;p&gt;I'd like to understand why Java 8 Optionals...</td>\n",
       "      <td>java optional</td>\n",
       "      <td>2016-01-01 02:03:20</td>\n",
       "      <td>HQ</td>\n",
       "    </tr>\n",
       "    <tr>\n",
       "      <th>2</th>\n",
       "      <td>34553174</td>\n",
       "      <td>Text Overlay Image with Darkened Opacity React...</td>\n",
       "      <td>&lt;p&gt;I am attempting to overlay a title over an ...</td>\n",
       "      <td>javascript image overlay react-native opacity</td>\n",
       "      <td>2016-01-01 02:48:24</td>\n",
       "      <td>HQ</td>\n",
       "    </tr>\n",
       "    <tr>\n",
       "      <th>3</th>\n",
       "      <td>34553318</td>\n",
       "      <td>Why ternary operator in swift is so picky?</td>\n",
       "      <td>&lt;p&gt;The question is very simple, but I just cou...</td>\n",
       "      <td>swift operators whitespace ternary-operator op...</td>\n",
       "      <td>2016-01-01 03:30:17</td>\n",
       "      <td>HQ</td>\n",
       "    </tr>\n",
       "    <tr>\n",
       "      <th>4</th>\n",
       "      <td>34553755</td>\n",
       "      <td>hide/show fab with scale animation</td>\n",
       "      <td>&lt;p&gt;I'm using custom floatingactionmenu. I need...</td>\n",
       "      <td>android material-design floating-action-button</td>\n",
       "      <td>2016-01-01 05:21:48</td>\n",
       "      <td>HQ</td>\n",
       "    </tr>\n",
       "  </tbody>\n",
       "</table>\n",
       "</div>"
      ],
      "text/plain": [
       "         Id                                              Title  \\\n",
       "0  34552656             Java: Repeat Task Every Random Seconds   \n",
       "1  34553034                  Why are Java Optionals immutable?   \n",
       "2  34553174  Text Overlay Image with Darkened Opacity React...   \n",
       "3  34553318         Why ternary operator in swift is so picky?   \n",
       "4  34553755                 hide/show fab with scale animation   \n",
       "\n",
       "                                                Body  \\\n",
       "0  <p>I'm already familiar with repeating tasks e...   \n",
       "1  <p>I'd like to understand why Java 8 Optionals...   \n",
       "2  <p>I am attempting to overlay a title over an ...   \n",
       "3  <p>The question is very simple, but I just cou...   \n",
       "4  <p>I'm using custom floatingactionmenu. I need...   \n",
       "\n",
       "                                                Tags         CreationDate  \\\n",
       "0                                       java repeat   2016-01-01 00:21:59   \n",
       "1                                     java optional   2016-01-01 02:03:20   \n",
       "2     javascript image overlay react-native opacity   2016-01-01 02:48:24   \n",
       "3  swift operators whitespace ternary-operator op...  2016-01-01 03:30:17   \n",
       "4    android material-design floating-action-button   2016-01-01 05:21:48   \n",
       "\n",
       "          Y  \n",
       "0  LQ_CLOSE  \n",
       "1        HQ  \n",
       "2        HQ  \n",
       "3        HQ  \n",
       "4        HQ  "
      ]
     },
     "execution_count": 7,
     "metadata": {},
     "output_type": "execute_result"
    }
   ],
   "source": [
    "train.head()"
   ]
  },
  {
   "cell_type": "code",
   "execution_count": 8,
   "id": "d571c9fb",
   "metadata": {},
   "outputs": [],
   "source": [
    "flat_list = []\n",
    "for sublist in np.array(train[\"Tags\"]):\n",
    "    flat_list.append(sublist.split()[0])"
   ]
  },
  {
   "cell_type": "code",
   "execution_count": 9,
   "id": "a41997cb",
   "metadata": {},
   "outputs": [
    {
     "data": {
      "text/html": [
       "<div>\n",
       "<style scoped>\n",
       "    .dataframe tbody tr th:only-of-type {\n",
       "        vertical-align: middle;\n",
       "    }\n",
       "\n",
       "    .dataframe tbody tr th {\n",
       "        vertical-align: top;\n",
       "    }\n",
       "\n",
       "    .dataframe thead th {\n",
       "        text-align: right;\n",
       "    }\n",
       "</style>\n",
       "<table border=\"1\" class=\"dataframe\">\n",
       "  <thead>\n",
       "    <tr style=\"text-align: right;\">\n",
       "      <th></th>\n",
       "      <th>tag</th>\n",
       "      <th>count</th>\n",
       "    </tr>\n",
       "  </thead>\n",
       "  <tbody>\n",
       "    <tr>\n",
       "      <th>622</th>\n",
       "      <td>javascript</td>\n",
       "      <td>5385</td>\n",
       "    </tr>\n",
       "    <tr>\n",
       "      <th>950</th>\n",
       "      <td>python</td>\n",
       "      <td>4962</td>\n",
       "    </tr>\n",
       "    <tr>\n",
       "      <th>617</th>\n",
       "      <td>java</td>\n",
       "      <td>4641</td>\n",
       "    </tr>\n",
       "    <tr>\n",
       "      <th>195</th>\n",
       "      <td>c#</td>\n",
       "      <td>3084</td>\n",
       "    </tr>\n",
       "    <tr>\n",
       "      <th>894</th>\n",
       "      <td>php</td>\n",
       "      <td>2759</td>\n",
       "    </tr>\n",
       "    <tr>\n",
       "      <th>47</th>\n",
       "      <td>android</td>\n",
       "      <td>2592</td>\n",
       "    </tr>\n",
       "    <tr>\n",
       "      <th>198</th>\n",
       "      <td>c++</td>\n",
       "      <td>2204</td>\n",
       "    </tr>\n",
       "    <tr>\n",
       "      <th>594</th>\n",
       "      <td>ios</td>\n",
       "      <td>1255</td>\n",
       "    </tr>\n",
       "    <tr>\n",
       "      <th>194</th>\n",
       "      <td>c</td>\n",
       "      <td>1234</td>\n",
       "    </tr>\n",
       "    <tr>\n",
       "      <th>547</th>\n",
       "      <td>html</td>\n",
       "      <td>888</td>\n",
       "    </tr>\n",
       "  </tbody>\n",
       "</table>\n",
       "</div>"
      ],
      "text/plain": [
       "            tag  count\n",
       "622  javascript   5385\n",
       "950      python   4962\n",
       "617        java   4641\n",
       "195          c#   3084\n",
       "894         php   2759\n",
       "47      android   2592\n",
       "198         c++   2204\n",
       "594         ios   1255\n",
       "194           c   1234\n",
       "547        html    888"
      ]
     },
     "execution_count": 9,
     "metadata": {},
     "output_type": "execute_result"
    }
   ],
   "source": [
    "count_list_tag = flat_list\n",
    "unique, counts = np.unique(count_list_tag, return_counts=True)\n",
    "tag_df = pd.DataFrame({\"tag\": unique, \"count\":counts})\n",
    "tag_df.sort_values(\"count\", inplace = True, ascending = False )\n",
    "tag_df = tag_df.iloc[:10,:]\n",
    "tag_df"
   ]
  },
  {
   "cell_type": "code",
   "execution_count": 10,
   "id": "f28a57cb",
   "metadata": {},
   "outputs": [
    {
     "data": {
      "image/png": "[encoded data removed]",
      "text/plain": [
       "<Figure size 720x720 with 1 Axes>"
      ]
     },
     "metadata": {
      "needs_background": "light"
     },
     "output_type": "display_data"
    }
   ],
   "source": [
    "plt.figure(figsize = (10,10))\n",
    "sns.barplot(x = \"tag\", y = \"count\", data = tag_df)\n",
    "plt.show()"
   ]
  },
  {
   "cell_type": "markdown",
   "id": "3b56aa51",
   "metadata": {},
   "source": [
    "En este dataset el lenguaje más presente es el javascript, python y java. Antes de continuar con otros análisis se hace necesario realizar la limpieza de los datos, que se realizará a continuación."
   ]
  },
  {
   "cell_type": "code",
   "execution_count": 11,
   "id": "084ba187",
   "metadata": {},
   "outputs": [],
   "source": [
    "#Se importa nltk para realizar la limpieza. Para ello se crea una función que luego será aplicada al dataframe\n",
    "import re\n",
    "import nltk\n",
    "from nltk.corpus import stopwords\n",
    "\n",
    "def remove_stopwords(string):\n",
    "    word_list = [word.lower() for word in string.split()]\n",
    "    stopwords_list = list(stopwords.words(\"english\"))\n",
    "    for word in word_list:\n",
    "        if word in stopwords_list:\n",
    "            word_list.remove(word)\n",
    "    return ' '.join(word_list)"
   ]
  },
  {
   "cell_type": "code",
   "execution_count": 12,
   "id": "27ec5438",
   "metadata": {},
   "outputs": [],
   "source": [
    "#La limpieza se realiza aplicando distintas funciones de reemplazo (En general símbolos a string vacíos).\n",
    "#Al finalizar se aplica la limpieza de stopwords\n",
    "\n",
    "for column in ['Body', 'Title']:\n",
    "\n",
    "    train[column] = train[column].map(lambda x: re.sub('\\\\n',' ',str(x)))\n",
    "    train[column] = train[column].map(lambda x: re.sub(r'\\W',' ',str(x)))\n",
    "    train[column] = train[column].map(lambda x: re.sub(r'https\\s+|www.\\s+',r'', str(x)))\n",
    "    train[column] = train[column].map(lambda x: re.sub(r'http\\s+|www.\\s+',r'', str(x)))\n",
    "    train[column] = train[column].map(lambda x: re.sub(r'\\s+[a-zA-Z]\\s+',' ',str(x)))\n",
    "    train[column] = train[column].map(lambda x: re.sub(r'\\^[a-zA-Z]\\s+',' ',str(x)))\n",
    "    train[column] = train[column].map(lambda x: re.sub(r'\\s+',' ',str(x)))\n",
    "    train[column] = train[column].str.lower()\n",
    "\n",
    "    train[column] = train[column].map(lambda x: re.sub(r\"\\’\", \"\\'\", str(x)))\n",
    "    train[column] = train[column].map(lambda x: re.sub(r\"won\\'t\", \"will not\", str(x)))\n",
    "    train[column] = train[column].map(lambda x: re.sub(r\"can\\'t\", \"can not\", str(x)))\n",
    "    train[column] = train[column].map(lambda x: re.sub(r\"don\\'t\", \"do not\", str(x)))\n",
    "    train[column] = train[column].map(lambda x: re.sub(r\"dont\", \"do not\", str(x)))\n",
    "    train[column] = train[column].map(lambda x: re.sub(r\"n\\’t\", \" not\", str(x)))\n",
    "    train[column] = train[column].map(lambda x: re.sub(r\"n\\'t\", \" not\", str(x)))\n",
    "    train[column] = train[column].map(lambda x: re.sub(r\"\\'re\", \" are\", str(x)))\n",
    "    train[column] = train[column].map(lambda x: re.sub(r\"\\'s\", \" is\", str(x)))\n",
    "    train[column] = train[column].map(lambda x: re.sub(r\"\\’d\", \" would\", str(x)))\n",
    "    train[column] = train[column].map(lambda x: re.sub(r\"\\d\", \" would\", str(x)))\n",
    "    train[column] = train[column].map(lambda x: re.sub(r\"\\'ll\", \" will\", str(x)))\n",
    "    train[column] = train[column].map(lambda x: re.sub(r\"\\'t\", \" not\", str(x)))\n",
    "    train[column] = train[column].map(lambda x: re.sub(r\"\\'ve\", \" have\", str(x)))\n",
    "    train[column] = train[column].map(lambda x: re.sub(r\"\\'m\", \" am\", str(x)))\n",
    "    train[column] = train[column].map(lambda x: re.sub(r\"\\n\", \"\", str(x)))\n",
    "    train[column] = train[column].map(lambda x: re.sub(r\"\\r\", \"\", str(x)))\n",
    "    train[column] = train[column].map(lambda x: re.sub(r\"[0-9]\", \"digit\", str(x)))\n",
    "    train[column] = train[column].map(lambda x: re.sub(r\"\\'\", \"\", str(x)))\n",
    "    train[column] = train[column].map(lambda x: re.sub(r\"\\\"\", \"\", str(x)))\n",
    "    train[column] = train[column].map(lambda x: re.sub(r'[?|!|\\'|\"|#]',r'', str(x)))\n",
    "    train[column] = train[column].map(lambda x: re.sub(r'[.|,|)|(|\\|/]',r' ', str(x)))\n",
    "    train[column] = train[column].apply(lambda x: remove_stopwords(x))\n",
    "\n"
   ]
  },
  {
   "cell_type": "code",
   "execution_count": 13,
   "id": "c581b4c6",
   "metadata": {},
   "outputs": [
    {
     "data": {
      "text/html": [
       "<div>\n",
       "<style scoped>\n",
       "    .dataframe tbody tr th:only-of-type {\n",
       "        vertical-align: middle;\n",
       "    }\n",
       "\n",
       "    .dataframe tbody tr th {\n",
       "        vertical-align: top;\n",
       "    }\n",
       "\n",
       "    .dataframe thead th {\n",
       "        text-align: right;\n",
       "    }\n",
       "</style>\n",
       "<table border=\"1\" class=\"dataframe\">\n",
       "  <thead>\n",
       "    <tr style=\"text-align: right;\">\n",
       "      <th></th>\n",
       "      <th>Id</th>\n",
       "      <th>Title</th>\n",
       "      <th>Body</th>\n",
       "      <th>Tags</th>\n",
       "      <th>CreationDate</th>\n",
       "      <th>Y</th>\n",
       "      <th>description</th>\n",
       "    </tr>\n",
       "  </thead>\n",
       "  <tbody>\n",
       "    <tr>\n",
       "      <th>0</th>\n",
       "      <td>34552656</td>\n",
       "      <td>java repeat task every random seconds</td>\n",
       "      <td>already familiar repeating tasks every seconds...</td>\n",
       "      <td>java repeat</td>\n",
       "      <td>2016-01-01 00:21:59</td>\n",
       "      <td>LQ_CLOSE</td>\n",
       "      <td>java repeat task every random seconds already ...</td>\n",
       "    </tr>\n",
       "    <tr>\n",
       "      <th>1</th>\n",
       "      <td>34553034</td>\n",
       "      <td>are java optionals immutable</td>\n",
       "      <td>like understand java would optionals designed ...</td>\n",
       "      <td>java optional</td>\n",
       "      <td>2016-01-01 02:03:20</td>\n",
       "      <td>HQ</td>\n",
       "      <td>are java optionals immutable like understand j...</td>\n",
       "    </tr>\n",
       "    <tr>\n",
       "      <th>2</th>\n",
       "      <td>34553174</td>\n",
       "      <td>text overlay image darkened opacity react native</td>\n",
       "      <td>am attempting overlay title an image image dar...</td>\n",
       "      <td>javascript image overlay react-native opacity</td>\n",
       "      <td>2016-01-01 02:48:24</td>\n",
       "      <td>HQ</td>\n",
       "      <td>text overlay image darkened opacity react nati...</td>\n",
       "    </tr>\n",
       "    <tr>\n",
       "      <th>3</th>\n",
       "      <td>34553318</td>\n",
       "      <td>ternary operator swift so picky</td>\n",
       "      <td>question very simple just could find answer p ...</td>\n",
       "      <td>swift operators whitespace ternary-operator op...</td>\n",
       "      <td>2016-01-01 03:30:17</td>\n",
       "      <td>HQ</td>\n",
       "      <td>ternary operator swift so picky question very ...</td>\n",
       "    </tr>\n",
       "    <tr>\n",
       "      <th>4</th>\n",
       "      <td>34553755</td>\n",
       "      <td>hide show fab scale animation</td>\n",
       "      <td>using custom floatingactionmenu need implement...</td>\n",
       "      <td>android material-design floating-action-button</td>\n",
       "      <td>2016-01-01 05:21:48</td>\n",
       "      <td>HQ</td>\n",
       "      <td>hide show fab scale animation using custom flo...</td>\n",
       "    </tr>\n",
       "  </tbody>\n",
       "</table>\n",
       "</div>"
      ],
      "text/plain": [
       "         Id                                             Title  \\\n",
       "0  34552656             java repeat task every random seconds   \n",
       "1  34553034                      are java optionals immutable   \n",
       "2  34553174  text overlay image darkened opacity react native   \n",
       "3  34553318                   ternary operator swift so picky   \n",
       "4  34553755                     hide show fab scale animation   \n",
       "\n",
       "                                                Body  \\\n",
       "0  already familiar repeating tasks every seconds...   \n",
       "1  like understand java would optionals designed ...   \n",
       "2  am attempting overlay title an image image dar...   \n",
       "3  question very simple just could find answer p ...   \n",
       "4  using custom floatingactionmenu need implement...   \n",
       "\n",
       "                                                Tags         CreationDate  \\\n",
       "0                                       java repeat   2016-01-01 00:21:59   \n",
       "1                                     java optional   2016-01-01 02:03:20   \n",
       "2     javascript image overlay react-native opacity   2016-01-01 02:48:24   \n",
       "3  swift operators whitespace ternary-operator op...  2016-01-01 03:30:17   \n",
       "4    android material-design floating-action-button   2016-01-01 05:21:48   \n",
       "\n",
       "          Y                                        description  \n",
       "0  LQ_CLOSE  java repeat task every random seconds already ...  \n",
       "1        HQ  are java optionals immutable like understand j...  \n",
       "2        HQ  text overlay image darkened opacity react nati...  \n",
       "3        HQ  ternary operator swift so picky question very ...  \n",
       "4        HQ  hide show fab scale animation using custom flo...  "
      ]
     },
     "execution_count": 13,
     "metadata": {},
     "output_type": "execute_result"
    }
   ],
   "source": [
    "#Se une en un solo string el título y el cuerpo del post que se utilizará además para realizar las predicciones\n",
    "\n",
    "train['description'] = train['Title'] + \" \" + train['Body']\n",
    "train.head()"
   ]
  },
  {
   "cell_type": "markdown",
   "id": "e63641a6",
   "metadata": {},
   "source": [
    "# Palabras más frecuentes según las distintas categorías"
   ]
  },
  {
   "cell_type": "code",
   "execution_count": 14,
   "id": "a8e36bb1",
   "metadata": {},
   "outputs": [],
   "source": [
    "from nltk import tokenize\n",
    "\n",
    "tokenSpace = tokenize.WhitespaceTokenizer()\n",
    "def counter(text, columnText, quantity):\n",
    "    allWords = ' '.join([text for text in text[columnText].astype('str')])\n",
    "    tokenPhrase = tokenSpace.tokenize(allWords)\n",
    "    frequency = nltk.FreqDist(tokenPhrase) \n",
    "    dfFrequency = pd.DataFrame({\"Word\": list(frequency.keys()), \"Frequency\": list(frequency.values())}) \n",
    "    \n",
    "    dfFrequency = dfFrequency.nlargest(columns = \"Frequency\", n = quantity)\n",
    "    plt.figure(figsize=(12,8))\n",
    "    ax = sns.barplot(data = dfFrequency, x = \"Word\", y = \"Frequency\", palette=\"deep\")\n",
    "    ax.set(ylabel = \"Count\")\n",
    "    plt.xticks(rotation='horizontal')\n",
    "    plt.show()"
   ]
  },
  {
   "cell_type": "markdown",
   "id": "e715e566",
   "metadata": {},
   "source": [
    "### Categoría LQ_CLOSE"
   ]
  },
  {
   "cell_type": "code",
   "execution_count": 15,
   "id": "9077fbf4",
   "metadata": {},
   "outputs": [
    {
     "data": {
      "image/png": "[encoded data removed]",
      "text/plain": [
       "<Figure size 864x576 with 1 Axes>"
      ]
     },
     "metadata": {
      "needs_background": "light"
     },
     "output_type": "display_data"
    }
   ],
   "source": [
    "counter(train[train['Y'] == \"LQ_CLOSE\"], 'description', 10)"
   ]
  },
  {
   "cell_type": "markdown",
   "id": "5246bb00",
   "metadata": {},
   "source": [
    "### Categoría HQ"
   ]
  },
  {
   "cell_type": "code",
   "execution_count": 16,
   "id": "501d655c",
   "metadata": {},
   "outputs": [
    {
     "data": {
      "image/png": "[encoded data removed]",
      "text/plain": [
       "<Figure size 864x576 with 1 Axes>"
      ]
     },
     "metadata": {
      "needs_background": "light"
     },
     "output_type": "display_data"
    }
   ],
   "source": [
    "counter(train[train['Y'] == \"HQ\"], 'description', 10)"
   ]
  },
  {
   "cell_type": "markdown",
   "id": "29e081ae",
   "metadata": {},
   "source": [
    " ### Categoría LQ_EDIT"
   ]
  },
  {
   "cell_type": "code",
   "execution_count": 17,
   "id": "81f6a1df",
   "metadata": {},
   "outputs": [
    {
     "data": {
      "image/png": "[encoded data removed]",
      "text/plain": [
       "<Figure size 864x576 with 1 Axes>"
      ]
     },
     "metadata": {
      "needs_background": "light"
     },
     "output_type": "display_data"
    }
   ],
   "source": [
    "counter(train[train['Y'] == \"LQ_EDIT\"], 'description', 10)"
   ]
  },
  {
   "cell_type": "markdown",
   "id": "c1b5bb0b",
   "metadata": {},
   "source": [
    "Luego de la limpieza notamos que por lejos la palabra más utilizada es would, esperable siendo que la mayoría de los post son de consultas."
   ]
  },
  {
   "cell_type": "markdown",
   "id": "a579a77a",
   "metadata": {},
   "source": [
    "## Largo promedio de palabra en cada post"
   ]
  },
  {
   "cell_type": "code",
   "execution_count": 18,
   "id": "1d76c161",
   "metadata": {},
   "outputs": [
    {
     "data": {
      "text/plain": [
       "Text(0.5, 0.98, 'Average word length in each question')"
      ]
     },
     "execution_count": 18,
     "metadata": {},
     "output_type": "execute_result"
    },
    {
     "data": {
      "image/png": "[encoded data removed]",
      "text/plain": [
       "<Figure size 1152x360 with 1 Axes>"
      ]
     },
     "metadata": {
      "needs_background": "light"
     },
     "output_type": "display_data"
    }
   ],
   "source": [
    "fig,(ax1) = plt.subplots(1, 1, figsize = (16, 5))\n",
    "word  =  train[train['Y'] == 'HQ']['description'].str.split().apply(lambda x : [len(i) for i in x])\n",
    "sns.histplot(word.map(lambda x: np.mean(x)),ax  =  ax1, color = 'red')\n",
    "ax1.set_title('High Quality Questions')\n",
    "fig.suptitle('Average word length in each question')"
   ]
  },
  {
   "cell_type": "code",
   "execution_count": 19,
   "id": "5006d7ea",
   "metadata": {},
   "outputs": [
    {
     "data": {
      "text/plain": [
       "Text(0.5, 0.98, 'Average word length in each question')"
      ]
     },
     "execution_count": 19,
     "metadata": {},
     "output_type": "execute_result"
    },
    {
     "data": {
      "image/png": "[encoded data removed]",
      "text/plain": [
       "<Figure size 1152x360 with 1 Axes>"
      ]
     },
     "metadata": {
      "needs_background": "light"
     },
     "output_type": "display_data"
    }
   ],
   "source": [
    "fig,(ax1) = plt.subplots(1, 1, figsize = (16, 5))\n",
    "word  =  train[(train['Y'] == 'LQ_EDIT') ]['description'].str.split().apply(lambda x : [len(i) for i in x])\n",
    "sns.histplot(word.map(lambda x: np.mean(x)),ax  =  ax1, color = 'green')\n",
    "ax1.set_title('Low  Quality Edited Questions')\n",
    "fig.suptitle('Average word length in each question')"
   ]
  },
  {
   "cell_type": "code",
   "execution_count": 20,
   "id": "1066ee1a",
   "metadata": {},
   "outputs": [
    {
     "data": {
      "text/plain": [
       "Text(0.5, 0.98, 'Average word length in each question')"
      ]
     },
     "execution_count": 20,
     "metadata": {},
     "output_type": "execute_result"
    },
    {
     "data": {
      "image/png": "[encoded data removed]",
      "text/plain": [
       "<Figure size 1152x360 with 1 Axes>"
      ]
     },
     "metadata": {
      "needs_background": "light"
     },
     "output_type": "display_data"
    }
   ],
   "source": [
    "fig,(ax1) = plt.subplots(1, 1, figsize = (16, 5))\n",
    "word  =  train[(train['Y'] == 'LQ_CLOSE')]['description'].str.split().apply(lambda x : [len(i) for i in x])\n",
    "sns.histplot(word.map(lambda x: np.mean(x)),ax  =  ax1, color = 'orange')\n",
    "ax1.set_title('Low  Quality Closed Questions')\n",
    "fig.suptitle('Average word length in each question')"
   ]
  },
  {
   "cell_type": "markdown",
   "id": "5c08740a",
   "metadata": {},
   "source": [
    "## Largo promedio de cada post"
   ]
  },
  {
   "cell_type": "code",
   "execution_count": 21,
   "id": "ee8ab61b",
   "metadata": {},
   "outputs": [
    {
     "data": {
      "text/plain": [
       "Text(0.5, 0.98, 'Average length in each question')"
      ]
     },
     "execution_count": 21,
     "metadata": {},
     "output_type": "execute_result"
    },
    {
     "data": {
      "image/png": "[encoded data removed]",
      "text/plain": [
       "<Figure size 1152x360 with 1 Axes>"
      ]
     },
     "metadata": {
      "needs_background": "light"
     },
     "output_type": "display_data"
    }
   ],
   "source": [
    "fig,(ax1) = plt.subplots(1, 1, figsize = (16, 5))\n",
    "word  =  train[train['Y'] == 'HQ']['description'].str.split().apply(len)\n",
    "sns.histplot(word,ax  =  ax1, color = 'red')\n",
    "ax1.set_title('High Quality Questions')\n",
    "fig.suptitle('Average length in each question')"
   ]
  },
  {
   "cell_type": "code",
   "execution_count": 22,
   "id": "01c19334",
   "metadata": {},
   "outputs": [
    {
     "data": {
      "text/plain": [
       "Text(0.5, 0.98, 'Average length in each question')"
      ]
     },
     "execution_count": 22,
     "metadata": {},
     "output_type": "execute_result"
    },
    {
     "data": {
      "image/png": "[encoded data removed]",
      "text/plain": [
       "<Figure size 1152x360 with 1 Axes>"
      ]
     },
     "metadata": {
      "needs_background": "light"
     },
     "output_type": "display_data"
    }
   ],
   "source": [
    "fig,(ax1) = plt.subplots(1, 1, figsize = (16, 5))\n",
    "word  =  train[train['Y'] == 'LQ_EDIT']['description'].str.split().apply(len)\n",
    "sns.histplot(word,ax  =  ax1, color = 'green')\n",
    "ax1.set_title('Low  Quality Edited Questions')\n",
    "fig.suptitle('Average length in each question')"
   ]
  },
  {
   "cell_type": "code",
   "execution_count": 23,
   "id": "93b021fb",
   "metadata": {},
   "outputs": [
    {
     "data": {
      "text/plain": [
       "Text(0.5, 0.98, 'Average length in each question')"
      ]
     },
     "execution_count": 23,
     "metadata": {},
     "output_type": "execute_result"
    },
    {
     "data": {
      "image/png": "[encoded data removed]",
      "text/plain": [
       "<Figure size 1152x360 with 1 Axes>"
      ]
     },
     "metadata": {
      "needs_background": "light"
     },
     "output_type": "display_data"
    }
   ],
   "source": [
    "fig,(ax1) = plt.subplots(1, 1, figsize = (16, 5))\n",
    "word  =  train[train['Y'] == 'LQ_CLOSE']['description'].str.split().apply(len)\n",
    "sns.histplot(word,ax  =  ax1, color = 'orange')\n",
    "ax1.set_title('Low  Quality Closed Questions')\n",
    "fig.suptitle('Average length in each question')"
   ]
  },
  {
   "cell_type": "markdown",
   "id": "aad74b80",
   "metadata": {},
   "source": [
    "Para los dos casos, las distribuciones no difieren enormemente entre las distintas categorías. Lo que si se debe notar es que al analizar el largo de los post, existen algunos de cercanos 16000 palabras, que aunque no se vean en el gráfico claramente, los límites del gráfico indican la existencia de un valor en el rango mostrado."
   ]
  },
  {
   "cell_type": "markdown",
   "id": "7f1521b9",
   "metadata": {},
   "source": [
    "# 4) Hacer una propuesta para abordar el problema"
   ]
  },
  {
   "cell_type": "markdown",
   "id": "a812b713",
   "metadata": {},
   "source": [
    "### a. Por ejemplo, cuál será la plataforma/librería a utilizar\n",
    "\n",
    "Se utilizará la librería Tensorflow y Keras para realizar la tokenización y entrenamiento. De ser necesario una mejora se utilizará la librería Transformers de [Hugging Face](https://huggingface.co/transformers/).\n",
    "\n",
    "### b. “Se va a utilizar una arquitectura con L capas (hacer un diagrama)…”\n",
    "\n",
    "Se utilizará una estructura del tipo LSTM, con lstm_out unidades, se utilizarán distintos valores y se irá evaluando su cambio. Embed_dim se seleccionará según los recursos del computador y se probarán valores al entrenar el modelo.\n",
    "\n",
    "embed_dim = ???\n",
    "\n",
    "lstm_out = ???\n",
    "\n",
    "* model = Sequential()\n",
    "* model.add(Embedding(max_fatures, embed_dim,input_length = X.shape[1]))\n",
    "* model.add(SpatialDropout1D(0.4))\n",
    "* model.add(LSTM(lstm_out, dropout=0.2, recurrent_dropout=0.2))\n",
    "* model.add(Dense(3,activation='softmax'))\n",
    "* model.compile(loss = 'categorical_crossentropy', optimizer='adam',metrics = ['accuracy'])\n",
    "\n",
    "\n",
    "### c. Enunciar algún plan B o cambio en la arquitectura en caso de que la propuesta inicial no funcione\n",
    "\n",
    "El plan B será utilizar Transformers, junto al Tokenizador BERT, todo incluido en la librería Transformers."
   ]
  }
 ],
 "metadata": {
  "kernelspec": {
   "display_name": "Python 3",
   "language": "python",
   "name": "python3"
  },
  "language_info": {
   "codemirror_mode": {
    "name": "ipython",
    "version": 3
   },
   "file_extension": ".py",
   "mimetype": "text/x-python",
   "name": "python",
   "nbconvert_exporter": "python",
   "pygments_lexer": "ipython3",
   "version": "3.8.8"
  }
 },
 "nbformat": 4,
 "nbformat_minor": 5
}
